{
 "cells": [
  {
   "cell_type": "markdown",
   "id": "2df43497",
   "metadata": {},
   "source": [
    "# Data visualization and modification"
   ]
  },
  {
   "cell_type": "markdown",
   "id": "4e00d7fb",
   "metadata": {},
   "source": [
    "In first I import the libraries needed for this task and create a data frame"
   ]
  },
  {
   "cell_type": "code",
   "execution_count": 1,
   "id": "6e493361",
   "metadata": {},
   "outputs": [],
   "source": [
    "import pandas as pd\n",
    "import seaborn as sns\n",
    "from collections import Counter"
   ]
  },
  {
   "cell_type": "code",
   "execution_count": 2,
   "id": "7aec7d52",
   "metadata": {},
   "outputs": [],
   "source": [
    "df = pd.DataFrame({\n",
    "    \"Name\": [\"Kacper\",\"Janek\",\"Jagoda\",\"Piotr\",\"Wiesław\",\"Asia\", \"Adam\", \"Marek\", \"Kasia\",\"Ewa\"],\n",
    "    \"Score\":[87,40,26,90,79,66,71,55,97,33],\n",
    "    \"Rating\": [4,2,2,5,4,3,4,3,5,2]\n",
    "})"
   ]
  },
  {
   "cell_type": "markdown",
   "id": "8110a9bb",
   "metadata": {},
   "source": [
    "Now I will present the data, below there is a bar graph showing the number of points scored and the appropriate color of the obtained rating"
   ]
  },
  {
   "cell_type": "code",
   "execution_count": 3,
   "id": "303a7ec6",
   "metadata": {},
   "outputs": [
    {
     "data": {
      "image/png": "[encoded data removed]",
      "text/plain": [
       "<Figure size 396.555x360 with 1 Axes>"
      ]
     },
     "metadata": {},
     "output_type": "display_data"
    }
   ],
   "source": [
    "sns.set(font_scale = 0.8)\n",
    "chart = sns.catplot(data=df, x = \"Name\", y = \"Score\", kind = \"bar\", hue =\"Rating\" )"
   ]
  },
  {
   "cell_type": "markdown",
   "id": "540be201",
   "metadata": {},
   "source": [
    "We can also show the obtained ratings in this way"
   ]
  },
  {
   "cell_type": "code",
   "execution_count": 4,
   "id": "e6642bd6",
   "metadata": {},
   "outputs": [
    {
     "data": {
      "image/png": "[encoded data removed]",
      "text/plain": [
       "<Figure size 360x360 with 1 Axes>"
      ]
     },
     "metadata": {},
     "output_type": "display_data"
    }
   ],
   "source": [
    "wykres = sns.catplot(data=df, x = \"Name\", y = \"Rating\")"
   ]
  },
  {
   "cell_type": "markdown",
   "id": "9d38ae82",
   "metadata": {},
   "source": [
    "\n",
    "Now I will check how many people have passed the exam."
   ]
  },
  {
   "cell_type": "code",
   "execution_count": 5,
   "id": "d641d158",
   "metadata": {},
   "outputs": [],
   "source": [
    "df[\"passed\"] = \"No\"\n",
    "df.loc[df.Rating > 2, \"passed\"] = \"Yes\""
   ]
  },
  {
   "cell_type": "code",
   "execution_count": 6,
   "id": "27422f8d",
   "metadata": {},
   "outputs": [
    {
     "data": {
      "text/plain": [
       "Counter({'Yes': 7, 'No': 3})"
      ]
     },
     "execution_count": 6,
     "metadata": {},
     "output_type": "execute_result"
    }
   ],
   "source": [
    "Counter(df.passed)"
   ]
  },
  {
   "cell_type": "markdown",
   "id": "a4df7883",
   "metadata": {},
   "source": [
    "\n",
    "I will now modify the dataframe a bit, adding grades from other exams and removing the redundant column containing the number of points"
   ]
  },
  {
   "cell_type": "code",
   "execution_count": 7,
   "id": "a043658c",
   "metadata": {},
   "outputs": [],
   "source": [
    "df = df.rename(columns={'Rating':'first_exam'})"
   ]
  },
  {
   "cell_type": "code",
   "execution_count": 8,
   "id": "ab0d7ab1",
   "metadata": {},
   "outputs": [],
   "source": [
    "df.drop(['Score','passed'], axis=1, inplace=True)"
   ]
  },
  {
   "cell_type": "code",
   "execution_count": 9,
   "id": "84d40f92",
   "metadata": {},
   "outputs": [],
   "source": [
    "second_exam = [3,2,4,4,4,3,2,2,5,3]\n",
    "third_exam = [5,4,3,2,2,4,4,3,3,4]\n",
    "fourth_exam = [2,3,4,5,4,3,2,3,3,2]"
   ]
  },
  {
   "cell_type": "code",
   "execution_count": 10,
   "id": "d5a68e97",
   "metadata": {},
   "outputs": [],
   "source": [
    "df[\"second_exam\"] = second_exam\n",
    "df[\"third_exam\"] = third_exam\n",
    "df[\"fourth_exam\"] = fourth_exam"
   ]
  },
  {
   "cell_type": "markdown",
   "id": "da08c4fd",
   "metadata": {},
   "source": [
    "I will calculate the grade average for all the exams"
   ]
  },
  {
   "cell_type": "code",
   "execution_count": 11,
   "id": "689e55b4",
   "metadata": {},
   "outputs": [],
   "source": [
    "amount = df.first_exam + df.second_exam + df.third_exam +  df.fourth_exam\n",
    "amount /= 4"
   ]
  },
  {
   "cell_type": "code",
   "execution_count": 12,
   "id": "76f6540d",
   "metadata": {},
   "outputs": [],
   "source": [
    "df[\"mean\"] = amount"
   ]
  },
  {
   "cell_type": "code",
   "execution_count": 13,
   "id": "95e36dad",
   "metadata": {},
   "outputs": [],
   "source": [
    "df[\"passed\"] = \"No\"\n",
    "df.loc[amount > 2.75, \"passed\"] = \"Yes\""
   ]
  },
  {
   "cell_type": "markdown",
   "id": "786ebfc3",
   "metadata": {},
   "source": [
    "Finally, it sorts the tables with the highest rating averages on top and shows this in the bar chart."
   ]
  },
  {
   "cell_type": "code",
   "execution_count": 14,
   "id": "d644a88c",
   "metadata": {},
   "outputs": [
    {
     "data": {
      "text/html": [
       "<div>\n",
       "<style scoped>\n",
       "    .dataframe tbody tr th:only-of-type {\n",
       "        vertical-align: middle;\n",
       "    }\n",
       "\n",
       "    .dataframe tbody tr th {\n",
       "        vertical-align: top;\n",
       "    }\n",
       "\n",
       "    .dataframe thead th {\n",
       "        text-align: right;\n",
       "    }\n",
       "</style>\n",
       "<table border=\"1\" class=\"dataframe\">\n",
       "  <thead>\n",
       "    <tr style=\"text-align: right;\">\n",
       "      <th></th>\n",
       "      <th>Name</th>\n",
       "      <th>first_exam</th>\n",
       "      <th>second_exam</th>\n",
       "      <th>third_exam</th>\n",
       "      <th>fourth_exam</th>\n",
       "      <th>mean</th>\n",
       "      <th>passed</th>\n",
       "    </tr>\n",
       "  </thead>\n",
       "  <tbody>\n",
       "    <tr>\n",
       "      <th>0</th>\n",
       "      <td>Piotr</td>\n",
       "      <td>5</td>\n",
       "      <td>4</td>\n",
       "      <td>2</td>\n",
       "      <td>5</td>\n",
       "      <td>4.00</td>\n",
       "      <td>Yes</td>\n",
       "    </tr>\n",
       "    <tr>\n",
       "      <th>1</th>\n",
       "      <td>Kasia</td>\n",
       "      <td>5</td>\n",
       "      <td>5</td>\n",
       "      <td>3</td>\n",
       "      <td>3</td>\n",
       "      <td>4.00</td>\n",
       "      <td>Yes</td>\n",
       "    </tr>\n",
       "    <tr>\n",
       "      <th>2</th>\n",
       "      <td>Kacper</td>\n",
       "      <td>4</td>\n",
       "      <td>3</td>\n",
       "      <td>5</td>\n",
       "      <td>2</td>\n",
       "      <td>3.50</td>\n",
       "      <td>Yes</td>\n",
       "    </tr>\n",
       "    <tr>\n",
       "      <th>3</th>\n",
       "      <td>Wiesław</td>\n",
       "      <td>4</td>\n",
       "      <td>4</td>\n",
       "      <td>2</td>\n",
       "      <td>4</td>\n",
       "      <td>3.50</td>\n",
       "      <td>Yes</td>\n",
       "    </tr>\n",
       "    <tr>\n",
       "      <th>4</th>\n",
       "      <td>Jagoda</td>\n",
       "      <td>2</td>\n",
       "      <td>4</td>\n",
       "      <td>3</td>\n",
       "      <td>4</td>\n",
       "      <td>3.25</td>\n",
       "      <td>Yes</td>\n",
       "    </tr>\n",
       "    <tr>\n",
       "      <th>5</th>\n",
       "      <td>Asia</td>\n",
       "      <td>3</td>\n",
       "      <td>3</td>\n",
       "      <td>4</td>\n",
       "      <td>3</td>\n",
       "      <td>3.25</td>\n",
       "      <td>Yes</td>\n",
       "    </tr>\n",
       "    <tr>\n",
       "      <th>6</th>\n",
       "      <td>Adam</td>\n",
       "      <td>4</td>\n",
       "      <td>2</td>\n",
       "      <td>4</td>\n",
       "      <td>2</td>\n",
       "      <td>3.00</td>\n",
       "      <td>Yes</td>\n",
       "    </tr>\n",
       "    <tr>\n",
       "      <th>7</th>\n",
       "      <td>Janek</td>\n",
       "      <td>2</td>\n",
       "      <td>2</td>\n",
       "      <td>4</td>\n",
       "      <td>3</td>\n",
       "      <td>2.75</td>\n",
       "      <td>No</td>\n",
       "    </tr>\n",
       "    <tr>\n",
       "      <th>8</th>\n",
       "      <td>Marek</td>\n",
       "      <td>3</td>\n",
       "      <td>2</td>\n",
       "      <td>3</td>\n",
       "      <td>3</td>\n",
       "      <td>2.75</td>\n",
       "      <td>No</td>\n",
       "    </tr>\n",
       "    <tr>\n",
       "      <th>9</th>\n",
       "      <td>Ewa</td>\n",
       "      <td>2</td>\n",
       "      <td>3</td>\n",
       "      <td>4</td>\n",
       "      <td>2</td>\n",
       "      <td>2.75</td>\n",
       "      <td>No</td>\n",
       "    </tr>\n",
       "  </tbody>\n",
       "</table>\n",
       "</div>"
      ],
      "text/plain": [
       "      Name  first_exam  second_exam  third_exam  fourth_exam  mean passed\n",
       "0    Piotr           5            4           2            5  4.00    Yes\n",
       "1    Kasia           5            5           3            3  4.00    Yes\n",
       "2   Kacper           4            3           5            2  3.50    Yes\n",
       "3  Wiesław           4            4           2            4  3.50    Yes\n",
       "4   Jagoda           2            4           3            4  3.25    Yes\n",
       "5     Asia           3            3           4            3  3.25    Yes\n",
       "6     Adam           4            2           4            2  3.00    Yes\n",
       "7    Janek           2            2           4            3  2.75     No\n",
       "8    Marek           3            2           3            3  2.75     No\n",
       "9      Ewa           2            3           4            2  2.75     No"
      ]
     },
     "execution_count": 14,
     "metadata": {},
     "output_type": "execute_result"
    }
   ],
   "source": [
    "df.sort_values(by=[\"mean\"],inplace=True, ascending = False)\n",
    "df.reset_index(drop=True,inplace=True)\n",
    "df.head(10)"
   ]
  },
  {
   "cell_type": "code",
   "execution_count": 15,
   "id": "27fca17e",
   "metadata": {},
   "outputs": [
    {
     "data": {
      "image/png": "[encoded data removed]",
      "text/plain": [
       "<Figure size 406.055x360 with 1 Axes>"
      ]
     },
     "metadata": {},
     "output_type": "display_data"
    }
   ],
   "source": [
    "chart = sns.catplot(data=df, x = \"Name\", y = \"mean\",kind = \"bar\", hue =\"passed\")"
   ]
  }
 ],
 "metadata": {
  "kernelspec": {
   "display_name": "Python 3 (ipykernel)",
   "language": "python",
   "name": "python3"
  },
  "language_info": {
   "codemirror_mode": {
    "name": "ipython",
    "version": 3
   },
   "file_extension": ".py",
   "mimetype": "text/x-python",
   "name": "python",
   "nbconvert_exporter": "python",
   "pygments_lexer": "ipython3",
   "version": "3.9.12"
  }
 },
 "nbformat": 4,
 "nbformat_minor": 5
}
